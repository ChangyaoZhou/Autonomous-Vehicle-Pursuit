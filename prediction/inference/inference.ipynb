{
 "cells": [
  {
   "cell_type": "markdown",
   "id": "515e2426",
   "metadata": {},
   "source": [
    "# Model Inference\n",
    "\n",
    "This notebook shows how to run inferences on triained models in the CARLA simulator. The evaluation pipeline is also included in the code provided.\n",
    "\n",
    "**STEPS:**\n",
    "1. The inference needs to run with the CARLA simulator, please place **the folder 'inference'** under path <code><path_to_Carla_folder>/CARLA/Carla_0.9.11/PythonAPI/examples/</code>. \n",
    "    \n",
    "2. Before we start to run the test script, it is necessary to start the CARLA simulator. Please follow https://carla.readthedocs.io/en/latest/start_quickstart/#running-carla if you are not familiar with CARLA simulator.\n",
    "    \n",
    "3. Evaluation result will be saved to **'evaluation.txt'** and **'evaluation.xls'** under path <code>inference/output/</code>. Both will be created automatically if not existing."
   ]
  },
  {
   "cell_type": "markdown",
   "id": "7462fdbd",
   "metadata": {},
   "source": [
    "**ARGUMENTS**\n",
    "\n",
    "1. The path to the models should be passed to the script with arguments **-cnn_path** for the CNN model and **-mlp_path** for the MLP model, please use the relative path to this notebook.\n",
    "\n",
    "2. Extra impulses could be added to the ego vehicle during inference, level could be specified with argument **impulse_level** from 0 to 0.5.\n",
    "\n",
    "3. The following town numbers and spawn points are picked for inference, rare overlapping with trajectories in the training dataset. Inference trajectory could be specified by arguments **-town** <town_number> and **-spawn_point** <spawn_point>. Using flag '--all' would automatically run inference on all trajectories.\n",
    "\n",
    "| Town Number | Spawn Point Number | \n",
    "| :-----:| :----: | \n",
    "| 1 | 100 | \n",
    "| 1 | 150 | \n",
    "| 3 | 0 | \n",
    "| 3 | 112 | \n",
    "| 3 | 200 | \n",
    "| 4 | 280 | \n",
    "| 4 | 368 | \n",
    "| 5 | 2 | \n",
    "| 5 | 100 | \n",
    "| 5 | 150 | \n"
   ]
  },
  {
   "cell_type": "code",
   "execution_count": null,
   "id": "5f458478",
   "metadata": {},
   "outputs": [],
   "source": [
    "# Example\n",
    "! python ./evaluation_cnnmlp_offline_impulses.py -cnn_path '../models/pretrained_models/Oracle.pth' -mlp_path '../models/pretrained_models/MLP.pth' -town 4 -spawn_point 368 -impulse_level 0 "
   ]
  },
  {
   "cell_type": "code",
   "execution_count": null,
   "id": "82fafbf8",
   "metadata": {},
   "outputs": [],
   "source": []
  }
 ],
 "metadata": {
  "kernelspec": {
   "display_name": "Python 3",
   "language": "python",
   "name": "python3"
  },
  "language_info": {
   "codemirror_mode": {
    "name": "ipython",
    "version": 3
   },
   "file_extension": ".py",
   "mimetype": "text/x-python",
   "name": "python",
   "nbconvert_exporter": "python",
   "pygments_lexer": "ipython3",
   "version": "3.7.11"
  }
 },
 "nbformat": 4,
 "nbformat_minor": 5
}
